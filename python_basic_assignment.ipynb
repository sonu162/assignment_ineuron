{
  "nbformat": 4,
  "nbformat_minor": 0,
  "metadata": {
    "colab": {
      "name": "python_basic_assignment.ipynb",
      "provenance": []
    },
    "kernelspec": {
      "name": "python3",
      "display_name": "Python 3"
    }
  },
  "cells": [
    {
      "cell_type": "markdown",
      "metadata": {
        "id": "ysrlexNk9A85"
      },
      "source": [
        "1.**Write a program which will find all such numbers which are divisible by 7 but are not a multiple of 5, between 2000 and 3200 (both included). The numbers obtained should be printed in a comma-separated sequence on a single line.** "
      ]
    },
    {
      "cell_type": "code",
      "metadata": {
        "id": "RkLq5xBw9YSs"
      },
      "source": [
        "def multiple(a,b):\n",
        "  for i in range(a,b):\n",
        "    if i%7==0 and i%5!=0 :\n",
        "      print(\"{},\".format(i),end='')\n"
      ],
      "execution_count": 2,
      "outputs": []
    },
    {
      "cell_type": "markdown",
      "metadata": {
        "id": "cGiGrnxY_Juk"
      },
      "source": [
        "**2.Write a Python program to accept the user's first and last name and then getting them printed in the the reverse order with a space between first name and last name.**"
      ]
    },
    {
      "cell_type": "code",
      "metadata": {
        "id": "ELQGxNk6-xv5"
      },
      "source": [
        "def reverse_string(str):\n",
        "  return str[::-1]"
      ],
      "execution_count": 12,
      "outputs": []
    },
    {
      "cell_type": "markdown",
      "metadata": {
        "id": "E6B684pTFGa_"
      },
      "source": [
        "**3.Write a Python program to find the volume of a sphere with diameter 12 cm.\n",
        "Formula: V=4/3 * π * r 3**"
      ]
    },
    {
      "cell_type": "code",
      "metadata": {
        "id": "DSvdcOgQFEHF"
      },
      "source": [
        "import math\n",
        "def vol_of_sphere(radius):\n",
        "  volume=(4/3)*(math.pi)*(pow(radius , 3))\n",
        "  return volume"
      ],
      "execution_count": 14,
      "outputs": []
    },
    {
      "cell_type": "code",
      "metadata": {
        "id": "f_4MH8ffBP3o",
        "outputId": "f54a0bc0-bbc6-44e1-a0e0-0ec72b4ad2d5",
        "colab": {
          "base_uri": "https://localhost:8080/",
          "height": 139
        }
      },
      "source": [
        "if __name__==\"__main__\":\n",
        "\n",
        "  print(\"multiple of 7 which is not divisible by 5 {}\".format(multiple(2000,3201)))  \n",
        "\n",
        "  first_name = input(\"enter the first name  \")\n",
        "  last_name = input(\"enter the last name  \")\n",
        "  rev_fname = reverse_string(first_name)\n",
        "  rev_lname=reverse_string(last_name)\n",
        "  print(\"{} , {}\".format(rev_fname,rev_lname))\n",
        "\n",
        "  radius=int(input(\"Enter the volume if the sphere \"))\n",
        "  print(\"Volume of the sphere is {}\".format(vol_of_sphere(radius)))"
      ],
      "execution_count": 20,
      "outputs": [
        {
          "output_type": "stream",
          "text": [
            "2002,2009,2016,2023,2037,2044,2051,2058,2072,2079,2086,2093,2107,2114,2121,2128,2142,2149,2156,2163,2177,2184,2191,2198,2212,2219,2226,2233,2247,2254,2261,2268,2282,2289,2296,2303,2317,2324,2331,2338,2352,2359,2366,2373,2387,2394,2401,2408,2422,2429,2436,2443,2457,2464,2471,2478,2492,2499,2506,2513,2527,2534,2541,2548,2562,2569,2576,2583,2597,2604,2611,2618,2632,2639,2646,2653,2667,2674,2681,2688,2702,2709,2716,2723,2737,2744,2751,2758,2772,2779,2786,2793,2807,2814,2821,2828,2842,2849,2856,2863,2877,2884,2891,2898,2912,2919,2926,2933,2947,2954,2961,2968,2982,2989,2996,3003,3017,3024,3031,3038,3052,3059,3066,3073,3087,3094,3101,3108,3122,3129,3136,3143,3157,3164,3171,3178,3192,3199,multiple of 7 which is not divisible by 5 None\n",
            "enter the first name  sonu\n",
            "enter the last name  kumar\n",
            "unos , ramuk\n",
            "Enter the volume if the sphere 12\n",
            "Volume of the sphere is 7238.229473870882\n"
          ],
          "name": "stdout"
        }
      ]
    },
    {
      "cell_type": "code",
      "metadata": {
        "id": "bzmcBWhtGkQG"
      },
      "source": [
        ""
      ],
      "execution_count": null,
      "outputs": []
    }
  ]
}